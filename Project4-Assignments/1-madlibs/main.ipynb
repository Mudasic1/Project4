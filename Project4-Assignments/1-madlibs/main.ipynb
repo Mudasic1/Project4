{
 "cells": [
  {
   "cell_type": "markdown",
   "metadata": {},
   "source": [
    "# Python project 1: Madlibs "
   ]
  },
  {
   "cell_type": "code",
   "execution_count": 1,
   "metadata": {},
   "outputs": [
    {
     "name": "stdout",
     "output_type": "stream",
     "text": [
      "🎉 Welcome to 'The Crazy Adventure Begins!' 🎉\n",
      "Just answer a few fun questions, and we'll create a wild and hilarious story for you. Let's go!\n",
      "\n",
      "\n",
      "Here is your crazy adventure story:\n",
      "\n",
      "One day, a exited Noman Dog decided to Run at the Karachi. It was the best day ever!\n",
      "\n",
      "Hope you had fun! Try again with different words! 😃\n"
     ]
    }
   ],
   "source": [
    "# The Crazy Adventure Begins!\n",
    "\n",
    "print(\"🎉 Welcome to 'The Crazy Adventure Begins!' 🎉\")\n",
    "print(\"Just answer a few fun questions, and we'll create a wild and hilarious story for you. Let's go!\\n\")\n",
    "\n",
    "# Asking for user input without using grammar terms\n",
    "feeling = input(\"How are you feeling today? (e.g., happy, excited, tired): \")\n",
    "animal = input(\"Name an animal: \")\n",
    "action = input(\"What’s something fun to do? (e.g., jump, dance, run): \")\n",
    "place = input(\"Name a cool place: \")\n",
    "\n",
    "# Creating a story using the inputs\n",
    "story = f\"\\nOne day, a {feeling} {animal} decided to {action} at the {place}. It was the best day ever!\"\n",
    "\n",
    "# Displaying the story\n",
    "print(\"\\nHere is your crazy adventure story:\")\n",
    "print(story)\n",
    "print(\"\\nHope you had fun! Try again with different words! 😃\")\n"
   ]
  }
 ],
 "metadata": {
  "kernelspec": {
   "display_name": "Python 3",
   "language": "python",
   "name": "python3"
  },
  "language_info": {
   "codemirror_mode": {
    "name": "ipython",
    "version": 3
   },
   "file_extension": ".py",
   "mimetype": "text/x-python",
   "name": "python",
   "nbconvert_exporter": "python",
   "pygments_lexer": "ipython3",
   "version": "3.13.2"
  }
 },
 "nbformat": 4,
 "nbformat_minor": 2
}
