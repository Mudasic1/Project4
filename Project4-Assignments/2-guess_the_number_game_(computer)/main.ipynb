{
 "cells": [
  {
   "cell_type": "markdown",
   "metadata": {},
   "source": [
    "# 2- Guess the number game Python Project (computer)"
   ]
  },
  {
   "cell_type": "code",
   "execution_count": 7,
   "metadata": {},
   "outputs": [
    {
     "name": "stdout",
     "output_type": "stream",
     "text": [
      "🎉 Welcome to 'Guess the Number'! 🎉\n",
      "I have chosen a number between 1 and 10. Try to guess it!\n",
      "\n",
      "Too low! Try again. ⬆️\n",
      "Too low! Try again. ⬆️\n",
      "Too low! Try again. ⬆️\n",
      "Too low! Try again. ⬆️\n",
      "Too low! Try again. ⬆️\n",
      "Too low! Try again. ⬆️\n",
      "🎉 Congratulations! You guessed the number 7 in 7 attempts. 🎉\n",
      "\n",
      "Thanks for playing! Play again to improve your score. 😃\n"
     ]
    }
   ],
   "source": [
    "import random\n",
    "\n",
    "# Welcome message\n",
    "print(\"🎉 Welcome to 'Guess the Number'! 🎉\")\n",
    "print(\"I have chosen a number between 1 and 10. Try to guess it!\\n\")\n",
    "\n",
    "# Generate a random number\n",
    "secret_number = random.randint(1, 10)\n",
    "\n",
    "# Initialize variables\n",
    "attempts = 0\n",
    "guess = 0\n",
    "\n",
    "# Game loop\n",
    "while guess != secret_number:\n",
    "    guess = int(input(\"Enter your number (1 - 10): \"))\n",
    "    attempts += 1\n",
    "\n",
    "    if guess < secret_number:\n",
    "        print(\"Too low! Try again. ⬆️\")\n",
    "    elif guess > secret_number:\n",
    "        print(\"Too high! Try again. ⬇️\")\n",
    "    else:\n",
    "        print(f\"🎉 Congratulations! You guessed the number {secret_number} in {attempts} attempts. 🎉\")\n",
    "\n",
    "print(\"\\nThanks for playing! Play again to improve your score. 😃\")\n"
   ]
  }
 ],
 "metadata": {
  "kernelspec": {
   "display_name": "base",
   "language": "python",
   "name": "python3"
  },
  "language_info": {
   "codemirror_mode": {
    "name": "ipython",
    "version": 3
   },
   "file_extension": ".py",
   "mimetype": "text/x-python",
   "name": "python",
   "nbconvert_exporter": "python",
   "pygments_lexer": "ipython3",
   "version": "3.12.7"
  }
 },
 "nbformat": 4,
 "nbformat_minor": 2
}
