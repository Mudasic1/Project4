{
 "cells": [
  {
   "cell_type": "markdown",
   "metadata": {},
   "source": [
    "# 3- Guess the number game Python Project (user):"
   ]
  },
  {
   "cell_type": "code",
   "execution_count": 3,
   "metadata": {},
   "outputs": [
    {
     "name": "stdout",
     "output_type": "stream",
     "text": [
      "🎉 Welcome to 'Guess Your Number'! 🎉\n",
      "Think of a number between 1 and 10, and I'll try to guess it! 🤖\n",
      "\n",
      "Is your number 7?\n",
      "🎉 Yay! I guessed your number 7 in 1 tries! 🤖🎉\n"
     ]
    }
   ],
   "source": [
    "import random\n",
    "\n",
    "# Welcome message\n",
    "print(\"🎉 Welcome to 'Guess Your Number'! 🎉\")\n",
    "print(\"Think of a number between 1 and 10, and I'll try to guess it! 🤖\")\n",
    "input(\"Press Enter when you're ready...\")\n",
    "\n",
    "# Initialize variables\n",
    "low = 1\n",
    "high = 10\n",
    "attempts = 0\n",
    "\n",
    "# Computer guesses\n",
    "while True:\n",
    "    guess = random.randint(low, high)\n",
    "    attempts += 1\n",
    "    print(f\"\\nIs your number {guess}?\")\n",
    "\n",
    "    response = input(\"Type 'H' if it's too high, 'L' if it's too low, or 'C' if it's correct: \").strip().upper()\n",
    "\n",
    "    if response == \"H\":\n",
    "        high = guess - 1\n",
    "    elif response == \"L\":\n",
    "        low = guess + 1\n",
    "    elif response == \"C\":\n",
    "        print(f\"🎉 Yay! I guessed your number {guess} in {attempts} tries! 🤖🎉\")\n",
    "        break\n",
    "    else:\n",
    "        print(\"Invalid input! Please enter 'H', 'L', or 'C'.\")\n"
   ]
  }
 ],
 "metadata": {
  "kernelspec": {
   "display_name": "Python 3",
   "language": "python",
   "name": "python3"
  },
  "language_info": {
   "codemirror_mode": {
    "name": "ipython",
    "version": 3
   },
   "file_extension": ".py",
   "mimetype": "text/x-python",
   "name": "python",
   "nbconvert_exporter": "python",
   "pygments_lexer": "ipython3",
   "version": "3.13.2"
  }
 },
 "nbformat": 4,
 "nbformat_minor": 2
}
