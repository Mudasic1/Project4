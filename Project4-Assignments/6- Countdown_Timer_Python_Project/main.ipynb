{
 "cells": [
  {
   "cell_type": "markdown",
   "metadata": {},
   "source": [
    "# Countdown Timer Python Project"
   ]
  },
  {
   "cell_type": "code",
   "execution_count": 4,
   "metadata": {},
   "outputs": [
    {
     "name": "stdout",
     "output_type": "stream",
     "text": [
      "\t\tWelcome to the Countdown Timer ⏲️\n",
      "\n",
      "\n",
      "Countdown started for 3 seconds\n",
      "Time's up!\n"
     ]
    }
   ],
   "source": [
    "import time\n",
    "\n",
    "print(\"\\t\\tWelcome to the Countdown Timer ⏲️\\n\\n\")\n",
    "\n",
    "def countdown_timer(seconds):\n",
    "    print(f\"Countdown started for {seconds} seconds\")\n",
    "    while seconds:\n",
    "        mins, secs = divmod(seconds, 60)\n",
    "        timer = f'{mins:02d}:{secs:02d}'\n",
    "        print(timer, end='\\r')\n",
    "        time.sleep(1)\n",
    "        seconds -= 1\n",
    "    print(\"Time's up!\")\n",
    "\n",
    "\n",
    "seconds = int(input(\"Enter time in seconds: \"))\n",
    "countdown_timer(seconds)\n"
   ]
  }
 ],
 "metadata": {
  "kernelspec": {
   "display_name": "Python 3",
   "language": "python",
   "name": "python3"
  },
  "language_info": {
   "codemirror_mode": {
    "name": "ipython",
    "version": 3
   },
   "file_extension": ".py",
   "mimetype": "text/x-python",
   "name": "python",
   "nbconvert_exporter": "python",
   "pygments_lexer": "ipython3",
   "version": "3.13.2"
  }
 },
 "nbformat": 4,
 "nbformat_minor": 2
}
