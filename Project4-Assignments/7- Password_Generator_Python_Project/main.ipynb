{
 "cells": [
  {
   "cell_type": "markdown",
   "metadata": {},
   "source": [
    "# Password Generator Python Project"
   ]
  },
  {
   "cell_type": "code",
   "execution_count": 4,
   "metadata": {},
   "outputs": [
    {
     "name": "stdout",
     "output_type": "stream",
     "text": [
      "Generated Password: #X$I7$V@\n"
     ]
    }
   ],
   "source": [
    "import random\n",
    "import string\n",
    "\n",
    "def generate_password(length=12):\n",
    "    required_chars = \"_@#$\"\n",
    "    characters = string.ascii_letters + string.digits + required_chars\n",
    "    password = [random.choice(required_chars) for _ in range(4)] \n",
    "    password += [random.choice(characters) for _ in range(length - 4)]\n",
    "    random.shuffle(password)  \n",
    "    return ''.join(password)\n",
    "\n",
    "\n",
    "length = int(input(\"Enter the desired password length (minimum 4): \"))\n",
    "if length < 4:\n",
    "    print(\"Password length must be at least 4.\")\n",
    "else:\n",
    "    print(\"Generated Password:\", generate_password(length))"
   ]
  }
 ],
 "metadata": {
  "kernelspec": {
   "display_name": "Python 3",
   "language": "python",
   "name": "python3"
  },
  "language_info": {
   "codemirror_mode": {
    "name": "ipython",
    "version": 3
   },
   "file_extension": ".py",
   "mimetype": "text/x-python",
   "name": "python",
   "nbconvert_exporter": "python",
   "pygments_lexer": "ipython3",
   "version": "3.13.2"
  }
 },
 "nbformat": 4,
 "nbformat_minor": 2
}
