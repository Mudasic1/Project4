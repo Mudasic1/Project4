{
 "cells": [
  {
   "cell_type": "markdown",
   "metadata": {},
   "source": [
    "# Problem Statement\n",
    "\n",
    "Write a Python program that takes two integer inputs from the user and calculates their sum. The program should perform the following tasks:\n",
    "\n",
    "* Prompt the user to enter the first number.\n",
    "\n",
    "* Read the input and convert it to an integer.\n",
    "\n",
    "* Prompt the user to enter the second number.\n",
    "\n",
    "* Read the input and convert it to an integer.\n",
    "\n",
    "* Calculate the sum of the two numbers.\n",
    "\n",
    "* Print the total sum with an appropriate message.\n"
   ]
  },
  {
   "cell_type": "code",
   "execution_count": 1,
   "metadata": {},
   "outputs": [
    {
     "name": "stdout",
     "output_type": "stream",
     "text": [
      "This program adds two numbers.\n",
      "The total is 8.\n"
     ]
    }
   ],
   "source": [
    "def main():\n",
    "    print(\"This program adds two numbers.\")\n",
    "    num1 : str = input(\"Enter first number: \")\n",
    "    num1 : int = int(num1)\n",
    "    num2  : str = input(\"Enter second number: \")\n",
    "    num2 : int = int(num2)\n",
    "    total : int = num1 + num2\n",
    "    print(\"The total is \" + str(total) + \".\")\n",
    "\n",
    "\n",
    "if __name__ == '__main__':\n",
    "    main()"
   ]
  }
 ],
 "metadata": {
  "kernelspec": {
   "display_name": "Python 3",
   "language": "python",
   "name": "python3"
  },
  "language_info": {
   "codemirror_mode": {
    "name": "ipython",
    "version": 3
   },
   "file_extension": ".py",
   "mimetype": "text/x-python",
   "name": "python",
   "nbconvert_exporter": "python",
   "pygments_lexer": "ipython3",
   "version": "3.13.2"
  }
 },
 "nbformat": 4,
 "nbformat_minor": 2
}
