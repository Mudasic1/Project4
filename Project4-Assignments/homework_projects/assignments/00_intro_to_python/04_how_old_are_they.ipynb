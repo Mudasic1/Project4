{
 "cells": [
  {
   "cell_type": "markdown",
   "metadata": {},
   "source": [
    "# Problem Statement\n",
    "\n",
    "### Write a program to solve this age-related riddle!\n",
    "\n",
    "Anton, Beth, Chen, Drew, and Ethan are all friends. Their ages are as follows:\n",
    "\n",
    "Anton is 21 years old.\n",
    "\n",
    "Beth is 6 years older than Anton.\n",
    "\n",
    "Chen is 20 years older than Beth.\n",
    "\n",
    "Drew is as old as Chen's age plus Anton's age.\n",
    "\n",
    "Ethan is the same age as Chen.\n",
    "\n",
    "Your code should store each person's age to a variable and print their names and ages at the end. The autograder is sensitive to capitalization and punctuation, be careful! Your solution should look like this (the below numbers are made up -- your solution should have the correct values!):"
   ]
  },
  {
   "cell_type": "code",
   "execution_count": 1,
   "metadata": {},
   "outputs": [
    {
     "name": "stdout",
     "output_type": "stream",
     "text": [
      "Anton is 21 years old.\n",
      "Beth is 27 years old.\n",
      "Chen is 47 years old.\n",
      "Drew is 68 years old.\n",
      "Ethan is 47 years old.\n"
     ]
    }
   ],
   "source": [
    "# Anton's age\n",
    "anton_age = 21\n",
    "\n",
    "# Beth's age (6 years older than Anton)\n",
    "beth_age = anton_age + 6\n",
    "\n",
    "# Chen's age (20 years older than Beth)\n",
    "chen_age = beth_age + 20\n",
    "\n",
    "# Drew's age (Chen's age plus Anton's age)\n",
    "drew_age = chen_age + anton_age\n",
    "\n",
    "# Ethan's age (same as Chen's age)\n",
    "ethan_age = chen_age\n",
    "\n",
    "# Print the names and ages\n",
    "print(f\"Anton is {anton_age} years old.\")\n",
    "print(f\"Beth is {beth_age} years old.\")\n",
    "print(f\"Chen is {chen_age} years old.\")\n",
    "print(f\"Drew is {drew_age} years old.\")\n",
    "print(f\"Ethan is {ethan_age} years old.\")"
   ]
  }
 ],
 "metadata": {
  "kernelspec": {
   "display_name": "Python 3",
   "language": "python",
   "name": "python3"
  },
  "language_info": {
   "codemirror_mode": {
    "name": "ipython",
    "version": 3
   },
   "file_extension": ".py",
   "mimetype": "text/x-python",
   "name": "python",
   "nbconvert_exporter": "python",
   "pygments_lexer": "ipython3",
   "version": "3.13.2"
  }
 },
 "nbformat": 4,
 "nbformat_minor": 2
}
