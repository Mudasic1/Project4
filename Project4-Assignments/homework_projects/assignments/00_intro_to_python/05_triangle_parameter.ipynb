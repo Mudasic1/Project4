{
 "cells": [
  {
   "cell_type": "markdown",
   "metadata": {},
   "source": [
    "# Problem Statement\n",
    "\n",
    "* Prompt the user to enter the lengths of each side of a triangle and then calculate and print the perimeter of the triangle (the sum of all of the side lengths).\n",
    "\n",
    "Here's a sample run of the program (user input is in bold italics):\n",
    "\n",
    "What is the length of side 1? 3\n",
    "\n",
    "What is the length of side 2? 4\n",
    "\n",
    "What is the length of side 3? 5.5\n",
    "\n",
    "The perimeter of the triangle is 12.5"
   ]
  },
  {
   "cell_type": "code",
   "execution_count": 1,
   "metadata": {},
   "outputs": [
    {
     "name": "stdout",
     "output_type": "stream",
     "text": [
      "The perimeter of the triangle is 9.0\n"
     ]
    }
   ],
   "source": [
    "# Function to calculate the perimeter of a triangle\n",
    "def calculate_perimeter(side1, side2, side3):\n",
    "    \"\"\"\n",
    "    Calculate the perimeter of a triangle.\n",
    "    \n",
    "    Parameters:\n",
    "    side1 (float): Length of the first side\n",
    "    side2 (float): Length of the second side\n",
    "    side3 (float): Length of the third side\n",
    "    \n",
    "    Returns:\n",
    "    float: The perimeter of the triangle\n",
    "    \"\"\"\n",
    "    return side1 + side2 + side3\n",
    "\n",
    "# Prompt the user for the lengths of the sides\n",
    "side1 = float(input(\"What is the length of side 1? \"))\n",
    "side2 = float(input(\"What is the length of side 2? \"))\n",
    "side3 = float(input(\"What is the length of side 3? \"))\n",
    "\n",
    "# Calculate the perimeter\n",
    "perimeter = calculate_perimeter(side1, side2, side3)\n",
    "\n",
    "# Print the result\n",
    "print(f\"The perimeter of the triangle is {perimeter}\")"
   ]
  }
 ],
 "metadata": {
  "kernelspec": {
   "display_name": "Python 3",
   "language": "python",
   "name": "python3"
  },
  "language_info": {
   "codemirror_mode": {
    "name": "ipython",
    "version": 3
   },
   "file_extension": ".py",
   "mimetype": "text/x-python",
   "name": "python",
   "nbconvert_exporter": "python",
   "pygments_lexer": "ipython3",
   "version": "3.13.2"
  }
 },
 "nbformat": 4,
 "nbformat_minor": 2
}
