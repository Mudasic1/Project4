{
 "cells": [
  {
   "cell_type": "markdown",
   "metadata": {},
   "source": [
    "# Problem Statement\n",
    "* Simulate rolling two dice, three times. Prints the results of each die roll. This program is used to show how variable scope works."
   ]
  },
  {
   "cell_type": "code",
   "execution_count": 1,
   "metadata": {},
   "outputs": [
    {
     "name": "stdout",
     "output_type": "stream",
     "text": [
      "die1 in main() starts as: 10\n",
      "total of two dice: 9\n",
      "total of two dice: 6\n",
      "total of two dice: 9\n",
      "die1 in main() is: 10\n"
     ]
    }
   ],
   "source": [
    "import random\n",
    "\n",
    "NUM_SIDES = 6\n",
    "\n",
    "def roll_dice():\n",
    "    \"\"\"\n",
    "    Simulate rolling two dice and print their values.\n",
    "    \"\"\"\n",
    "    die1 = random.randint(1, NUM_SIDES)\n",
    "    die2 = random.randint(1, NUM_SIDES)\n",
    "    total = die1 + die2\n",
    "    print(f\"total of two dice: {total}\")\n",
    "\n",
    "def main():\n",
    "    die1 = 10\n",
    "    print(\"die1 in main() starts as: \"+str(die1))\n",
    "    roll_dice()\n",
    "    roll_dice()\n",
    "    roll_dice()\n",
    "    print(\"die1 in main() is: \"+str(die1))\n",
    "\n",
    "if __name__ == \"__main__\":\n",
    "    main()"
   ]
  }
 ],
 "metadata": {
  "kernelspec": {
   "display_name": "Python 3",
   "language": "python",
   "name": "python3"
  },
  "language_info": {
   "codemirror_mode": {
    "name": "ipython",
    "version": 3
   },
   "file_extension": ".py",
   "mimetype": "text/x-python",
   "name": "python",
   "nbconvert_exporter": "python",
   "pygments_lexer": "ipython3",
   "version": "3.13.2"
  }
 },
 "nbformat": 4,
 "nbformat_minor": 2
}
