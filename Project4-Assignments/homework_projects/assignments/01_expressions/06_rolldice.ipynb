{
 "cells": [
  {
   "cell_type": "markdown",
   "metadata": {},
   "source": [
    "# Problem Statement\n",
    "* Simulate rolling two dice, and prints results of each roll as well as the total."
   ]
  },
  {
   "cell_type": "code",
   "execution_count": 1,
   "metadata": {},
   "outputs": [
    {
     "name": "stdout",
     "output_type": "stream",
     "text": [
      "Dice have 6 sides each.\n",
      "First die: 1\n",
      "Second die: 6\n",
      "Total of two dice: 7\n"
     ]
    }
   ],
   "source": [
    "\n",
    "import random\n",
    "\n",
    "NUM_SIDES = 6\n",
    "\n",
    "def main():\n",
    "    \n",
    "    die1 = random.randint(1, NUM_SIDES)\n",
    "    die2 = random.randint(1, NUM_SIDES)\n",
    "    \n",
    "    # Get their total\n",
    "    total = die1 + die2\n",
    "    \n",
    "    # Print out the results\n",
    "    print(\"Dice have\", NUM_SIDES, \"sides each.\")\n",
    "    print(\"First die:\", die1)\n",
    "    print(\"Second die:\", die2)\n",
    "    print(\"Total of two dice:\", total)\n",
    "\n",
    "\n",
    "\n",
    "if __name__ == '__main__':\n",
    "    main()\n"
   ]
  }
 ],
 "metadata": {
  "kernelspec": {
   "display_name": "Python 3",
   "language": "python",
   "name": "python3"
  },
  "language_info": {
   "codemirror_mode": {
    "name": "ipython",
    "version": 3
   },
   "file_extension": ".py",
   "mimetype": "text/x-python",
   "name": "python",
   "nbconvert_exporter": "python",
   "pygments_lexer": "ipython3",
   "version": "3.13.2"
  }
 },
 "nbformat": 4,
 "nbformat_minor": 2
}
