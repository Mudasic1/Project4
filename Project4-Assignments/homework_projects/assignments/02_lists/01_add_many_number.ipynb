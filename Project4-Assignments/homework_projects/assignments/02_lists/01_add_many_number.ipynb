{
 "cells": [
  {
   "cell_type": "markdown",
   "metadata": {},
   "source": [
    "# Problem Statement\n",
    "* Write a function that takes a list of numbers and returns the sum of those numbers."
   ]
  },
  {
   "cell_type": "code",
   "execution_count": 1,
   "metadata": {},
   "outputs": [
    {
     "name": "stdout",
     "output_type": "stream",
     "text": [
      "The sum of [1, 2, 3, 4, 5] is 15.\n"
     ]
    }
   ],
   "source": [
    "def add_many_numbers(numbers)-> int:\n",
    "    \"\"\"\n",
    "    Takes a list of numbers and returns the sum.\n",
    "    \"\"\"\n",
    "\n",
    "    total_so_far = 0\n",
    "    for number in numbers:\n",
    "        total_so_far += number\n",
    "    return total_so_far\n",
    "\n",
    "\n",
    "def main():\n",
    "    \"\"\"\n",
    "    Main function to demonstrate the add_many_numbers function.\n",
    "    \"\"\"\n",
    "    numbers: list[int] = [1, 2, 3, 4, 5]\n",
    "    sum_of_numbers = add_many_numbers(numbers)\n",
    "    print(f\"The sum of {numbers} is {sum_of_numbers}.\")\n",
    "\n",
    "\n",
    "if __name__ == \"__main__\":\n",
    "    main()"
   ]
  }
 ],
 "metadata": {
  "kernelspec": {
   "display_name": "Python 3",
   "language": "python",
   "name": "python3"
  },
  "language_info": {
   "codemirror_mode": {
    "name": "ipython",
    "version": 3
   },
   "file_extension": ".py",
   "mimetype": "text/x-python",
   "name": "python",
   "nbconvert_exporter": "python",
   "pygments_lexer": "ipython3",
   "version": "3.13.2"
  }
 },
 "nbformat": 4,
 "nbformat_minor": 2
}
