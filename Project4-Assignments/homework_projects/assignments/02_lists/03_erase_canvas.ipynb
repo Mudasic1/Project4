{
 "cells": [
  {
   "cell_type": "markdown",
   "metadata": {},
   "source": [
    "# Problem Statement\n",
    "### Implement an 'eraser' on a canvas.\n",
    "\n",
    "* The canvas consists of a grid of blue 'cells' which are drawn as rectangles on the screen. We then create an eraser rectangle which, when dragged around the canvas, sets all of the rectangles it is in contact with to white."
   ]
  },
  {
   "cell_type": "code",
   "execution_count": 2,
   "metadata": {},
   "outputs": [],
   "source": [
    "import tkinter as tk\n",
    "import time\n",
    "\n",
    "CANVAS_WIDTH: int = 400\n",
    "CANVAS_HEIGHT: int = 400\n",
    "\n",
    "CELL_SIZE: int = 40\n",
    "ERASER_SIZE: int = 20\n",
    "\n",
    "\n",
    "def erase_objects(canvas, eraser_coords):\n",
    "    \"\"\"Erase objects in contact with the eraser.\"\"\"\n",
    "    overlapping_objects = canvas.find_overlapping(\n",
    "        eraser_coords[0], eraser_coords[1], eraser_coords[2], eraser_coords[3]\n",
    "    )\n",
    "    for obj in overlapping_objects:\n",
    "        canvas.itemconfig(obj, fill=\"white\")\n",
    "\n",
    "\n",
    "def main():\n",
    "    root = tk.Tk()\n",
    "    root.title(\"Eraser Tool\")\n",
    "\n",
    "    canvas = tk.Canvas(root, width=CANVAS_WIDTH, height=CANVAS_HEIGHT, bg=\"white\")\n",
    "    canvas.pack()\n",
    "\n",
    "    # Create grid of rectangles\n",
    "    num_rows = CANVAS_HEIGHT // CELL_SIZE\n",
    "    num_cols = CANVAS_WIDTH // CELL_SIZE\n",
    "    for row in range(num_rows):\n",
    "        for col in range(num_cols):\n",
    "            left_x = col * CELL_SIZE\n",
    "            top_y = row * CELL_SIZE\n",
    "            right_x = left_x + CELL_SIZE\n",
    "            bottom_y = top_y + CELL_SIZE\n",
    "            canvas.create_rectangle(left_x, top_y, right_x, bottom_y, fill=\"blue\", outline=\"black\")\n",
    "\n",
    "    # Create the eraser\n",
    "    eraser = canvas.create_rectangle(0, 0, ERASER_SIZE, ERASER_SIZE, fill=\"pink\", outline=\"black\")\n",
    "\n",
    "    def on_mouse_move(event):\n",
    "        # Move the eraser to the mouse position\n",
    "        mouse_x, mouse_y = event.x, event.y\n",
    "        left_x = mouse_x - ERASER_SIZE // 2\n",
    "        top_y = mouse_y - ERASER_SIZE // 2\n",
    "        right_x = mouse_x + ERASER_SIZE // 2\n",
    "        bottom_y = mouse_y + ERASER_SIZE // 2\n",
    "\n",
    "        # Update eraser position\n",
    "        canvas.coords(eraser, left_x, top_y, right_x, bottom_y)\n",
    "\n",
    "        # Erase objects under the eraser\n",
    "        erase_objects(canvas, (left_x, top_y, right_x, bottom_y))\n",
    "\n",
    "    # Bind mouse movement to the eraser\n",
    "    canvas.bind(\"<Motion>\", on_mouse_move)\n",
    "\n",
    "    root.mainloop()\n",
    "\n",
    "\n",
    "if __name__ == \"__main__\":\n",
    "    main()"
   ]
  }
 ],
 "metadata": {
  "kernelspec": {
   "display_name": "Python 3",
   "language": "python",
   "name": "python3"
  },
  "language_info": {
   "codemirror_mode": {
    "name": "ipython",
    "version": 3
   },
   "file_extension": ".py",
   "mimetype": "text/x-python",
   "name": "python",
   "nbconvert_exporter": "python",
   "pygments_lexer": "ipython3",
   "version": "3.13.2"
  }
 },
 "nbformat": 4,
 "nbformat_minor": 2
}
