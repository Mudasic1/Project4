{
 "cells": [
  {
   "cell_type": "markdown",
   "metadata": {},
   "source": [
    "# Problem Statement\n",
    "Print 10 random numbers in the range 1 to 100.\n",
    "\n",
    "Here is an example run:\n",
    "\n",
    "45 79 61 47 52 10 16 83 19 12\n",
    "\n",
    "Each time you run your program you should get different numbers\n",
    "\n",
    "81 76 70 1 27 63 96 100 32 92\n",
    "\n",
    "Recall that the python random library has a function randint which returns an integer in the range set by the parameters (inclusive). For example this call would produce a random integer between 1 and 6, which could include 1 and could include 6:\n",
    "\n",
    "value = random.randint(1, 6)"
   ]
  },
  {
   "cell_type": "code",
   "execution_count": 9,
   "metadata": {},
   "outputs": [
    {
     "name": "stdout",
     "output_type": "stream",
     "text": [
      "Generated Random Numbers: [94, 81, 21, 85, 91, 59, 12, 62, 81, 52]\n"
     ]
    }
   ],
   "source": [
    "import random\n",
    "\n",
    "N_NUMBERS: int = 10\n",
    "MIN_VALUE: int = 1\n",
    "MAX_VALUE: int = 100\n",
    "\n",
    "def main():\n",
    "    \"\"\"\n",
    "    Generates N_NUMBERS random integers between MIN_VALUE and MAX_VALUE\n",
    "    and prints them.\n",
    "    \"\"\"\n",
    "    random_numbers = [random.randint(MIN_VALUE, MAX_VALUE) for _ in range(N_NUMBERS)]\n",
    "    print(\"Generated Random Numbers:\", random_numbers)\n",
    "\n",
    "if __name__ == '__main__':\n",
    "    main()"
   ]
  }
 ],
 "metadata": {
  "kernelspec": {
   "display_name": "Python 3",
   "language": "python",
   "name": "python3"
  },
  "language_info": {
   "codemirror_mode": {
    "name": "ipython",
    "version": 3
   },
   "file_extension": ".py",
   "mimetype": "text/x-python",
   "name": "python",
   "nbconvert_exporter": "python",
   "pygments_lexer": "ipython3",
   "version": "3.13.2"
  }
 },
 "nbformat": 4,
 "nbformat_minor": 2
}
