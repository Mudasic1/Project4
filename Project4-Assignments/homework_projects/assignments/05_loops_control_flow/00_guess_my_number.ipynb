{
 "cells": [
  {
   "cell_type": "markdown",
   "metadata": {},
   "source": [
    "# Problem Statement\n",
    "Guess My Number\n",
    "\n",
    "I am thinking of a number between 0 and 99... Enter a guess: 50 Your guess is too high\n",
    "\n",
    "Enter a new number: 25 Your guess is too low\n",
    "\n",
    "Enter a new number: 40 Your guess is too low\n",
    "\n",
    "Enter a new number: 45 Your guess is too low\n",
    "\n",
    "Enter a new number: 48 Congrats! The number was: 48"
   ]
  },
  {
   "cell_type": "code",
   "execution_count": null,
   "metadata": {},
   "outputs": [
    {
     "name": "stdout",
     "output_type": "stream",
     "text": [
      "I am thinking of a number between 1 and 99...\n",
      "Your guess is too low.\n",
      "\n",
      "Your guess is too low.\n",
      "\n",
      "Your guess is too low.\n",
      "\n",
      "Your guess is too low.\n",
      "\n",
      "Your guess is too low.\n",
      "\n",
      "Your guess is too high.\n",
      "\n",
      "Your guess is too low.\n",
      "\n",
      "Your guess is too low.\n",
      "\n",
      "Invalid input. Please enter a valid integer.\n",
      "Invalid input. Please enter a valid integer.\n",
      "Invalid input. Please enter a valid integer.\n",
      "Invalid input. Please enter a valid integer.\n",
      "Invalid input. Please enter a valid integer.\n",
      "Invalid input. Please enter a valid integer.\n",
      "Invalid input. Please enter a valid integer.\n",
      "Invalid input. Please enter a valid integer.\n",
      "Invalid input. Please enter a valid integer.\n",
      "Invalid input. Please enter a valid integer.\n",
      "Invalid input. Please enter a valid integer.\n",
      "Your guess is too low.\n",
      "\n",
      "Your guess is too low.\n",
      "\n",
      "Please enter a number between 1 and 99.\n",
      "Please enter a number between 1 and 99.\n",
      "Your guess is too low.\n",
      "\n",
      "Your guess is too low.\n",
      "\n"
     ]
    }
   ],
   "source": [
    "import random\n",
    "\n",
    "def main():\n",
    "    # Generate the secret number at random!\n",
    "    secret_number = random.randint(1, 99)\n",
    "    \n",
    "    print(\"I am thinking of a number between 1 and 99...\")\n",
    "    \n",
    "    while True:\n",
    "        try:\n",
    "            # Get user's guess\n",
    "            guess = int(input(\"Enter a guess: \"))\n",
    "            \n",
    "            # Check if the guess is within the valid range\n",
    "            if guess < 1 or guess > 99:\n",
    "                print(\"Please enter a number between 1 and 99.\")\n",
    "                continue\n",
    "            \n",
    "            # Compare the guess with the secret number\n",
    "            if guess < secret_number:\n",
    "                print(\"Your guess is too low.\")\n",
    "            elif guess > secret_number:\n",
    "                print(\"Your guess is too high.\")\n",
    "            else:\n",
    "                print(f\"Congrats! The number was: {secret_number}\")\n",
    "                break  # Exit the loop when the guess is correct\n",
    "            \n",
    "            print()  # Print an empty line to tidy up the console for new guesses\n",
    "        \n",
    "        except ValueError:\n",
    "            # Handle non-integer inputs\n",
    "            print(\"Invalid input. Please enter a valid integer.\")\n",
    "\n",
    "if __name__ == '__main__':\n",
    "    main()"
   ]
  }
 ],
 "metadata": {
  "kernelspec": {
   "display_name": "Python 3",
   "language": "python",
   "name": "python3"
  },
  "language_info": {
   "codemirror_mode": {
    "name": "ipython",
    "version": 3
   },
   "file_extension": ".py",
   "mimetype": "text/x-python",
   "name": "python",
   "nbconvert_exporter": "python",
   "pygments_lexer": "ipython3",
   "version": "3.13.2"
  }
 },
 "nbformat": 4,
 "nbformat_minor": 2
}
