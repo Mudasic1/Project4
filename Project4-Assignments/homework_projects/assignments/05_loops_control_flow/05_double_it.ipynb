{
 "cells": [
  {
   "cell_type": "markdown",
   "metadata": {},
   "source": [
    "# Problem Statement\n",
    "Write a program that asks a user to enter a number. Your program will then double that number and print out the result. It will repeat that process until the value is 100 or greater.\n",
    "\n",
    "For example if the user enters the number 2 you would then print:\n",
    "\n",
    "4 8 16 32 64 128\n",
    "\n",
    "Note that:\n",
    "\n",
    "2 doubled is 4\n",
    "\n",
    "4 doubled is 8\n",
    "\n",
    "8 doubled is 16\n",
    "\n",
    "and so on.\n",
    "\n",
    "We stop at 128 because that value is greater than 100.\n",
    "\n",
    "Maintain the current number in a variable named curr_value. When you double the number, you should be updating curr_value. Recall that you can double the value of curr_value using a line like:\n",
    "\n",
    "curr_value = curr_value * 2\n",
    "\n",
    "This program should have a while loop and the while loop condition should test if curr_value is less than 100. Thus, your program will have the line:\n",
    "\n",
    "while curr_value < 100:"
   ]
  },
  {
   "cell_type": "code",
   "execution_count": 1,
   "metadata": {},
   "outputs": [
    {
     "name": "stdout",
     "output_type": "stream",
     "text": [
      "Current number: 12\n",
      "Current number: 24\n",
      "Current number: 48\n",
      "Current number: 96\n",
      "Current number: 192\n",
      "Current number: 384\n",
      "Current number: 768\n",
      "Final number (exceeded 1000): 1536\n"
     ]
    }
   ],
   "source": [
    "# Function to double a number until it exceeds 1000\n",
    "def double_it():\n",
    "    number = int(input(\"Enter a starting number: \"))  # Get the starting number from the user\n",
    "    while number <= 1000:\n",
    "        print(f\"Current number: {number}\")\n",
    "        number *= 2  # Double the number\n",
    "    print(f\"Final number (exceeded 1000): {number}\")\n",
    "\n",
    "# Call the function\n",
    "double_it()"
   ]
  }
 ],
 "metadata": {
  "kernelspec": {
   "display_name": "Python 3",
   "language": "python",
   "name": "python3"
  },
  "language_info": {
   "codemirror_mode": {
    "name": "ipython",
    "version": 3
   },
   "file_extension": ".py",
   "mimetype": "text/x-python",
   "name": "python",
   "nbconvert_exporter": "python",
   "pygments_lexer": "ipython3",
   "version": "3.13.2"
  }
 },
 "nbformat": 4,
 "nbformat_minor": 2
}
