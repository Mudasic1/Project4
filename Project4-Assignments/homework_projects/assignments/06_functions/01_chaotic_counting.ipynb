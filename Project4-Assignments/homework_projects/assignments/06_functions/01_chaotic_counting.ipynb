{
 "cells": [
  {
   "cell_type": "markdown",
   "id": "83b43c92",
   "metadata": {},
   "source": [
    "# Problem Statement\n",
    "Fill out the chaotic_counting() function, which prints the numbers from 1 to 10, but with a catch. We've written a done() function which returns True with likelihood DONE_LIKELIHOOD -- at each number, before printing the number, you should call done() and check if it returns True or not. If done() returns True, we're done counting, and you should use a return statement to end the chaotic_counting() function execution and resume execution of main(), which will print \"I'm done.\". We've written main() for you -- check it out! Notice that we'll only print \"I'm done\" from main() once chaotic_counting() is done with its execution.\n",
    "\n",
    "Here's a sample run of this program:\n",
    "\n",
    "I'm going to count until 10 or until I feel like stopping, whichever comes first. 1 2 3 I'm done."
   ]
  },
  {
   "cell_type": "code",
   "execution_count": 15,
   "id": "caaa6665",
   "metadata": {},
   "outputs": [
    {
     "name": "stdout",
     "output_type": "stream",
     "text": [
      "I'm going to count until 10 or until I feel like stopping, whichever comes first.\n",
      "1\n",
      "I'm done\n"
     ]
    }
   ],
   "source": [
    "import random\n",
    "\n",
    "DONE_LIKELIHOOD = 0.3  \n",
    "\n",
    "def chaotic_counting():\n",
    "    for i in range(10):\n",
    "        curr_num = i + 1\n",
    "        if done():\n",
    "            return # this ends the function execution, so we'll get back to the main() function!\n",
    "        print(curr_num)\n",
    "\n",
    "\n",
    "def done():\n",
    "    \"\"\" Returns True with a probability of DONE_LIKELIHOOD \"\"\"\n",
    "    if random.random() < DONE_LIKELIHOOD:\n",
    "        return True\n",
    "    return False\n",
    "\n",
    "def main():\n",
    "    print(\"I'm going to count until 10 or until I feel like stopping, whichever comes first.\")\n",
    "    chaotic_counting()\n",
    "    print(\"I'm done\")\n",
    "\n",
    "if __name__ == \"__main__\":\n",
    "    main()"
   ]
  }
 ],
 "metadata": {
  "kernelspec": {
   "display_name": "Python 3",
   "language": "python",
   "name": "python3"
  },
  "language_info": {
   "codemirror_mode": {
    "name": "ipython",
    "version": 3
   },
   "file_extension": ".py",
   "mimetype": "text/x-python",
   "name": "python",
   "nbconvert_exporter": "python",
   "pygments_lexer": "ipython3",
   "version": "3.13.2"
  }
 },
 "nbformat": 4,
 "nbformat_minor": 5
}
