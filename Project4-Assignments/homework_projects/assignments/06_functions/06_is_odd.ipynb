{
 "cells": [
  {
   "cell_type": "markdown",
   "id": "c2d17e3b",
   "metadata": {},
   "source": [
    "# Problem Statement\n",
    "10 even 11 odd 12 even 13 odd 14 even 15 odd 16 even 17 odd 18 even 19 odd"
   ]
  },
  {
   "cell_type": "code",
   "execution_count": 1,
   "id": "2ea91fb3",
   "metadata": {},
   "outputs": [
    {
     "name": "stdout",
     "output_type": "stream",
     "text": [
      "even\n",
      "odd\n",
      "even\n",
      "odd\n",
      "even\n",
      "odd\n",
      "even\n",
      "odd\n",
      "even\n",
      "odd\n"
     ]
    }
   ],
   "source": [
    "def main():\n",
    "    for i in range(10):\n",
    "        if is_odd(i):\n",
    "            print('odd')\n",
    "        else:\n",
    "            print('even')\n",
    "            \n",
    "def is_odd(value: int):\n",
    "    \"\"\"\n",
    "    Checks to see if a value is odd. If it is, returns true.\n",
    "    \"\"\"\n",
    "    \n",
    "    remainder = value % 2  # 0 if value is divisible by 2, 1 if it isn't\n",
    "    return remainder == 1\n",
    "\n",
    "\n",
    "\n",
    "if __name__ == '__main__':\n",
    "    main()"
   ]
  }
 ],
 "metadata": {
  "kernelspec": {
   "display_name": "Python 3",
   "language": "python",
   "name": "python3"
  },
  "language_info": {
   "codemirror_mode": {
    "name": "ipython",
    "version": 3
   },
   "file_extension": ".py",
   "mimetype": "text/x-python",
   "name": "python",
   "nbconvert_exporter": "python",
   "pygments_lexer": "ipython3",
   "version": "3.13.2"
  }
 },
 "nbformat": 4,
 "nbformat_minor": 5
}
