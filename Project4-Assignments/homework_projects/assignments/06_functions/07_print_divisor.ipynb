{
 "cells": [
  {
   "cell_type": "markdown",
   "id": "62abda8e",
   "metadata": {},
   "source": [
    "# Problem Statement\n",
    "Write the helper function print_divisors(num), which takes in a number and prints all of its divisors (all the numbers from 1 to num inclusive that num can be cleanly divided by (there is no remainder to the division). Don't forget to call your function in main()!\n",
    "\n",
    "Here's a sample run (user input is in blue):\n",
    "\n",
    "Enter a number: 12 Here are the divisors of 12 1 2 3 4 6 12\n",
    "\n"
   ]
  },
  {
   "cell_type": "code",
   "execution_count": 1,
   "id": "872d6a48",
   "metadata": {},
   "outputs": [
    {
     "name": "stdout",
     "output_type": "stream",
     "text": [
      "Here are the divisors of 4\n",
      "1\n",
      "2\n",
      "4\n"
     ]
    }
   ],
   "source": [
    "def print_divisors(num: int):\n",
    "    print(\"Here are the divisors of\", num)\n",
    "    for i in range(num):\n",
    "        curr_divisor = i + 1\n",
    "        if num % curr_divisor == 0:\n",
    "            print(curr_divisor)\n",
    "\n",
    "def main():\n",
    "    num = int(input(\"Enter a number: \"))\n",
    "    print_divisors(num)\n",
    "\n",
    "\n",
    "\n",
    "if __name__ == '__main__':\n",
    "    main()"
   ]
  }
 ],
 "metadata": {
  "kernelspec": {
   "display_name": "Python 3",
   "language": "python",
   "name": "python3"
  },
  "language_info": {
   "codemirror_mode": {
    "name": "ipython",
    "version": 3
   },
   "file_extension": ".py",
   "mimetype": "text/x-python",
   "name": "python",
   "nbconvert_exporter": "python",
   "pygments_lexer": "ipython3",
   "version": "3.13.2"
  }
 },
 "nbformat": 4,
 "nbformat_minor": 5
}
