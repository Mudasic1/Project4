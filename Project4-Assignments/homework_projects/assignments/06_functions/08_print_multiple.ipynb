{
 "cells": [
  {
   "cell_type": "markdown",
   "id": "664d5f58",
   "metadata": {},
   "source": [
    "# Problem Statement\n",
    "Fill out print_multiple(message, repeats), which takes as parameters a string message to print, and an integer repeats number of times to print message. We've written the main() function for you, which prompts the user for a message and a number of repeats.\n",
    "\n",
    "Here's a sample run of the program (user input is in blue):\n",
    "\n",
    "Please type a message: Hello! Enter a number of times to repeat your message: 6 Hello! Hello! Hello! Hello! Hello! Hello!"
   ]
  },
  {
   "cell_type": "code",
   "execution_count": 3,
   "id": "29017a04",
   "metadata": {},
   "outputs": [
    {
     "name": "stdout",
     "output_type": "stream",
     "text": [
      "hello hello hello hello hello \n"
     ]
    }
   ],
   "source": [
    "def print_multiple(message: str, repeats: int): \n",
    "    for i in range(repeats): \n",
    "        print(message, end=' ')  # Print on the same line with a space\n",
    "    print()  # Add a newline at the end\n",
    "\n",
    "def main(): \n",
    "    message = input(\"Please type a message: \") \n",
    "    try:\n",
    "        repeats = int(input(\"Enter a number of times to repeat your message: \")) \n",
    "        print_multiple(message, repeats)\n",
    "    except ValueError:\n",
    "        print(\"Please enter a valid integer for the number of repeats.\")\n",
    "\n",
    "if __name__ == '__main__': \n",
    "    main()"
   ]
  }
 ],
 "metadata": {
  "kernelspec": {
   "display_name": "Python 3",
   "language": "python",
   "name": "python3"
  },
  "language_info": {
   "codemirror_mode": {
    "name": "ipython",
    "version": 3
   },
   "file_extension": ".py",
   "mimetype": "text/x-python",
   "name": "python",
   "nbconvert_exporter": "python",
   "pygments_lexer": "ipython3",
   "version": "3.13.2"
  }
 },
 "nbformat": 4,
 "nbformat_minor": 5
}
