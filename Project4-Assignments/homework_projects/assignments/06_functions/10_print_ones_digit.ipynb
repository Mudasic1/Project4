{
 "cells": [
  {
   "cell_type": "markdown",
   "id": "6e52ae62",
   "metadata": {},
   "source": [
    "# Problem Statement\n",
    "Write a function called print_ones_digit , which takes as a parameter an integer num and prints its ones digit. The modulo (remainder) operator, %, should be helpful to you here. Call your function from main()!\n",
    "\n",
    "Here's a sample run (user input is in blue):\n",
    "\n",
    "Enter a number: 42 The ones digit is 2"
   ]
  },
  {
   "cell_type": "code",
   "execution_count": 2,
   "id": "93796fb5",
   "metadata": {},
   "outputs": [
    {
     "name": "stdout",
     "output_type": "stream",
     "text": [
      "The ones digit is 2\n"
     ]
    }
   ],
   "source": [
    "def print_ones_digit(num): \n",
    "    print(\"The ones digit is\", num % 10)\n",
    "\n",
    "def main(): \n",
    "    num = int(input(\"Enter a number: \"))\n",
    "    print_ones_digit(num)\n",
    "\n",
    "if __name__ == '__main__':\n",
    "     main()"
   ]
  }
 ],
 "metadata": {
  "kernelspec": {
   "display_name": "Python 3",
   "language": "python",
   "name": "python3"
  },
  "language_info": {
   "codemirror_mode": {
    "name": "ipython",
    "version": 3
   },
   "file_extension": ".py",
   "mimetype": "text/x-python",
   "name": "python",
   "nbconvert_exporter": "python",
   "pygments_lexer": "ipython3",
   "version": "3.13.2"
  }
 },
 "nbformat": 4,
 "nbformat_minor": 5
}
