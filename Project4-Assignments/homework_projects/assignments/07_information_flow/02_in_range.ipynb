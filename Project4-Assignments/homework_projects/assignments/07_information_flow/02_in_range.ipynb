{
 "cells": [
  {
   "cell_type": "markdown",
   "id": "a1650ce5",
   "metadata": {},
   "source": [
    "# Problem Statement\n",
    "Implement the following function which takes in 3 integers as parameters:\n",
    "\n",
    "def in_range(n, low, high) \"\"\" Returns True if n is between low and high, inclusive. high is guaranteed to be greater than low. \"\"\""
   ]
  },
  {
   "cell_type": "code",
   "execution_count": 2,
   "id": "f73e3bd1",
   "metadata": {},
   "outputs": [],
   "source": [
    "def in_range(n, low, high):\n",
    "  \"\"\"\n",
    "  Returns True if n is between low and high, inclusive. \n",
    "  high is guaranteed to be greater than low.\n",
    "  \"\"\"\n",
    "  if n >= low and n <= high:\n",
    "    return True\n",
    "\n",
    "  \n",
    "  return False"
   ]
  }
 ],
 "metadata": {
  "kernelspec": {
   "display_name": "Python 3",
   "language": "python",
   "name": "python3"
  },
  "language_info": {
   "codemirror_mode": {
    "name": "ipython",
    "version": 3
   },
   "file_extension": ".py",
   "mimetype": "text/x-python",
   "name": "python",
   "nbconvert_exporter": "python",
   "pygments_lexer": "ipython3",
   "version": "3.13.2"
  }
 },
 "nbformat": 4,
 "nbformat_minor": 5
}
