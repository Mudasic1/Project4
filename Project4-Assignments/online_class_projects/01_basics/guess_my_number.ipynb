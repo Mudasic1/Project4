{
 "cells": [
  {
   "cell_type": "markdown",
   "id": "e731855b",
   "metadata": {},
   "source": [
    "# Problem Statement\n",
    "Guess My Number\n",
    "\n",
    "I am thinking of a number between 0 and 99... Enter a guess: 50 Your guess is too high\n",
    "\n",
    "Enter a new number: 25 Your guess is too low\n",
    "\n",
    "Enter a new number: 40 Your guess is too low\n",
    "\n",
    "Enter a new number: 45 Your guess is too low\n",
    "\n",
    "Enter a new number: 48 Congrats! The number was: 48"
   ]
  },
  {
   "cell_type": "code",
   "execution_count": 2,
   "id": "f9de54bc",
   "metadata": {},
   "outputs": [
    {
     "name": "stdout",
     "output_type": "stream",
     "text": [
      "I am thinking of a number between 1 and 99...\n",
      "Your guess is too low\n",
      "\n",
      "Your guess is too low\n",
      "\n",
      "Your guess is too low\n",
      "\n",
      "Your guess is too low\n",
      "\n",
      "Your guess is too low\n",
      "\n",
      "Your guess is too low\n",
      "\n",
      "Your guess is too low\n",
      "\n",
      "Your guess is too low\n",
      "\n",
      "Your guess is too low\n",
      "\n",
      "Your guess is too low\n",
      "\n",
      "Your guess is too low\n",
      "\n",
      "Your guess is too low\n",
      "\n",
      "Your guess is too low\n",
      "\n",
      "Your guess is too low\n",
      "\n",
      "Your guess is too low\n",
      "\n",
      "Your guess is too high\n",
      "\n",
      "Your guess is too low\n",
      "\n",
      "Your guess is too low\n",
      "\n",
      "Your guess is too low\n",
      "\n",
      "Your guess is too low\n",
      "\n",
      "Your guess is too low\n",
      "\n"
     ]
    },
    {
     "ename": "ValueError",
     "evalue": "invalid literal for int() with base 10: ''",
     "output_type": "error",
     "traceback": [
      "\u001b[31m---------------------------------------------------------------------------\u001b[39m",
      "\u001b[31mValueError\u001b[39m                                Traceback (most recent call last)",
      "\u001b[36mCell\u001b[39m\u001b[36m \u001b[39m\u001b[32mIn[2]\u001b[39m\u001b[32m, line 24\u001b[39m\n\u001b[32m     21\u001b[39m     \u001b[38;5;28mprint\u001b[39m(\u001b[33m\"\u001b[39m\u001b[33mCongrats! The number was: \u001b[39m\u001b[33m\"\u001b[39m + \u001b[38;5;28mstr\u001b[39m(secret_number))\n\u001b[32m     23\u001b[39m \u001b[38;5;28;01mif\u001b[39;00m \u001b[34m__name__\u001b[39m == \u001b[33m'\u001b[39m\u001b[33m__main__\u001b[39m\u001b[33m'\u001b[39m:\n\u001b[32m---> \u001b[39m\u001b[32m24\u001b[39m     \u001b[43mmain\u001b[49m\u001b[43m(\u001b[49m\u001b[43m)\u001b[49m\n",
      "\u001b[36mCell\u001b[39m\u001b[36m \u001b[39m\u001b[32mIn[2]\u001b[39m\u001b[32m, line 19\u001b[39m, in \u001b[36mmain\u001b[39m\u001b[34m()\u001b[39m\n\u001b[32m     16\u001b[39m         \u001b[38;5;28mprint\u001b[39m(\u001b[33m\"\u001b[39m\u001b[33mYour guess is too high\u001b[39m\u001b[33m\"\u001b[39m)\n\u001b[32m     18\u001b[39m     \u001b[38;5;28mprint\u001b[39m() \u001b[38;5;66;03m# Print an empty line to tidy up the console for new guesses\u001b[39;00m\n\u001b[32m---> \u001b[39m\u001b[32m19\u001b[39m     guess: \u001b[38;5;28mint\u001b[39m = \u001b[38;5;28;43mint\u001b[39;49m\u001b[43m(\u001b[49m\u001b[38;5;28;43minput\u001b[39;49m\u001b[43m(\u001b[49m\u001b[33;43m\"\u001b[39;49m\u001b[33;43mEnter a new guess: \u001b[39;49m\u001b[33;43m\"\u001b[39;49m\u001b[43m)\u001b[49m\u001b[43m)\u001b[49m  \u001b[38;5;66;03m# Get a new guess from the user\u001b[39;00m\n\u001b[32m     21\u001b[39m \u001b[38;5;28mprint\u001b[39m(\u001b[33m\"\u001b[39m\u001b[33mCongrats! The number was: \u001b[39m\u001b[33m\"\u001b[39m + \u001b[38;5;28mstr\u001b[39m(secret_number))\n",
      "\u001b[31mValueError\u001b[39m: invalid literal for int() with base 10: ''"
     ]
    }
   ],
   "source": [
    "import random\n",
    "\n",
    "def main():\n",
    "    # Generate the secret number at random!\n",
    "    secret_number: int = random.randint(1, 99)\n",
    "    \n",
    "    print(\"I am thinking of a number between 1 and 99...\")\n",
    "    \n",
    "    # Get user's guess\n",
    "    guess = int(input(\"Enter a guess: \"))\n",
    "    # True if guess is not equal to secret number\n",
    "    while guess != secret_number:\n",
    "        if guess < secret_number:  # If-statement is True if guess is less than secret number\n",
    "            print(\"Your guess is too low\")\n",
    "        else:\n",
    "            print(\"Your guess is too high\")\n",
    "            \n",
    "        print() # Print an empty line to tidy up the console for new guesses\n",
    "        guess: int = int(input(\"Enter a new guess: \"))  # Get a new guess from the user\n",
    "        \n",
    "    print(\"Congrats! The number was: \" + str(secret_number))\n",
    "    \n",
    "if __name__ == '__main__':\n",
    "    main()\n"
   ]
  }
 ],
 "metadata": {
  "kernelspec": {
   "display_name": "Python 3",
   "language": "python",
   "name": "python3"
  },
  "language_info": {
   "codemirror_mode": {
    "name": "ipython",
    "version": 3
   },
   "file_extension": ".py",
   "mimetype": "text/x-python",
   "name": "python",
   "nbconvert_exporter": "python",
   "pygments_lexer": "ipython3",
   "version": "3.13.2"
  }
 },
 "nbformat": 4,
 "nbformat_minor": 5
}
