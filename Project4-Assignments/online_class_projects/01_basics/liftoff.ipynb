{
 "cells": [
  {
   "cell_type": "markdown",
   "id": "6bfaee7e",
   "metadata": {},
   "source": [
    "# Problem Statement\n",
    "Write a program that prints out the calls for a spaceship that is about to launch. Countdown from 10 to 1 and then output Liftoff!\n",
    "\n",
    "Here's a sample run of the program:\n",
    "\n",
    "10 9 8 7 6 5 4 3 2 1 Liftoff!\n",
    "\n",
    "There are many ways to solve this problem. One approach is to use a for loop, and to use the for loop variable i. Recall that i will keep track of how many times the for loop has completed executing its body. As an example this code:\n",
    "\n",
    "for i in range(10): print(i)\n",
    "\n",
    "Will print out the values 0, 1, 2, 3, 4, 5, 6, 7, 8, 9. The values printed in liftoff are 10 minus the number of times the for loop has completed."
   ]
  },
  {
   "cell_type": "code",
   "execution_count": 1,
   "id": "459c5731",
   "metadata": {},
   "outputs": [
    {
     "name": "stdout",
     "output_type": "stream",
     "text": [
      "10 9 8 7 6 5 4 3 2 1 Liftoff!\n"
     ]
    }
   ],
   "source": [
    "def countdown(start: int = 10) -> str:\n",
    "    \"\"\"\n",
    "    Countdown from the given start number to 1 and return the result as a string\n",
    "    ending with 'Liftoff!'.\n",
    "\n",
    "    Args:\n",
    "        start (int): The number to start the countdown from. Default is 10.\n",
    "\n",
    "    Returns:\n",
    "        str: The countdown sequence as a single string.\n",
    "    \"\"\"\n",
    "    return \" \".join(str(i) for i in range(start, 0, -1)) + \" Liftoff!\"\n",
    "\n",
    "# Example usage\n",
    "if __name__ == \"__main__\":\n",
    "    print(countdown())"
   ]
  }
 ],
 "metadata": {
  "kernelspec": {
   "display_name": "Python 3",
   "language": "python",
   "name": "python3"
  },
  "language_info": {
   "codemirror_mode": {
    "name": "ipython",
    "version": 3
   },
   "file_extension": ".py",
   "mimetype": "text/x-python",
   "name": "python",
   "nbconvert_exporter": "python",
   "pygments_lexer": "ipython3",
   "version": "3.13.2"
  }
 },
 "nbformat": 4,
 "nbformat_minor": 5
}
