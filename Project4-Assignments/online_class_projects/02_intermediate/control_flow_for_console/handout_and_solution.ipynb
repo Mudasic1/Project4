{
 "cells": [
  {
   "cell_type": "markdown",
   "id": "8820c4f8",
   "metadata": {},
   "source": [
    "# Problem: High Low\n",
    "We want you to gain more experience working with control flow and Booleans in Python. To do this, we are going to have you develop a game! The game is called High-Low and the way it's played goes as follows:\n",
    "\n",
    "Two numbers are generated from 1 to 100 (inclusive on both ends): one for you and one for a computer, who will be your opponent. You can see your number, but not the computer's!\n",
    "\n",
    "You make a guess, saying your number is either higher than or lower than the computer's number\n",
    "\n",
    "If your guess matches the truth (ex. you guess your number is higher, and then your number is actually higher than the computer's), you get a point!\n",
    "\n",
    "These steps make up one round of the game. The game is over after all rounds have been played.\n"
   ]
  },
  {
   "cell_type": "code",
   "execution_count": 2,
   "id": "30917783",
   "metadata": {},
   "outputs": [
    {
     "name": "stdout",
     "output_type": "stream",
     "text": [
      "Welcome to the High-Low Game!\n",
      "--------------------------------\n",
      "Round 1\n",
      "Your number is 21\n",
      "Aww, that's incorrect. The computer's number was 42\n",
      "Your score is now 0\n",
      "\n",
      "Round 2\n",
      "Your number is 76\n",
      "Aww, that's incorrect. The computer's number was 79\n",
      "Your score is now 0\n",
      "\n",
      "Round 3\n",
      "Your number is 10\n",
      "Aww, that's incorrect. The computer's number was 67\n",
      "Your score is now 0\n",
      "\n",
      "Round 4\n",
      "Your number is 22\n",
      "Aww, that's incorrect. The computer's number was 5\n",
      "Your score is now 0\n",
      "\n",
      "Round 5\n",
      "Your number is 84\n",
      "Aww, that's incorrect. The computer's number was 12\n",
      "Your score is now 0\n",
      "\n",
      "Thanks for playing!\n"
     ]
    }
   ],
   "source": [
    "import random\n",
    "\n",
    "NUM_ROUNDS = 5\n",
    "\n",
    "def main():\n",
    "    print(\"Welcome to the High-Low Game!\")\n",
    "    print('--------------------------------')\n",
    "\n",
    "    # Milestone 5: keep track of your score\n",
    "    your_score = 0\n",
    "\n",
    "    # Milestone 4: Play multiple rounds\n",
    "    for i in range(NUM_ROUNDS):\n",
    "        print(\"Round\", i + 1)\n",
    "        # Milestone 1: Generate the random numbers and print them out\n",
    "        computer_num: int = random.randint(1, 100)\n",
    "        your_num: int = random.randint(1, 100)\n",
    "        print(\"Your number is\", your_num)\n",
    "\n",
    "        # Milestone 2: Get user input for their choice\n",
    "        choice: str = input(\"Do you think your number is higher or lower than the computer's?: \")\n",
    "\n",
    "        # Milestone 3: Map out all the ways to win the round\n",
    "        higher_and_correct: bool = choice == \"higher\" and your_num > computer_num\n",
    "        lower_and_correct: bool = choice == \"lower\" and your_num < computer_num\n",
    "\n",
    "        if higher_and_correct or lower_and_correct:\n",
    "            print(\"You were right! The computer's number was\", computer_num)\n",
    "            # Milestone 5: keep track of your score\n",
    "            your_score += 1 \n",
    "        else: \n",
    "            print(\"Aww, that's incorrect. The computer's number was\", computer_num)\n",
    "\n",
    "        # Milestone 5: keep track of your score\n",
    "        print(\"Your score is now\", your_score)\n",
    "        print()\n",
    "\n",
    "    print(\"Thanks for playing!\")\n",
    "\n",
    "if __name__ == \"__main__\":\n",
    "    main()\n"
   ]
  }
 ],
 "metadata": {
  "kernelspec": {
   "display_name": "Python 3",
   "language": "python",
   "name": "python3"
  },
  "language_info": {
   "codemirror_mode": {
    "name": "ipython",
    "version": 3
   },
   "file_extension": ".py",
   "mimetype": "text/x-python",
   "name": "python",
   "nbconvert_exporter": "python",
   "pygments_lexer": "ipython3",
   "version": "3.13.2"
  }
 },
 "nbformat": 4,
 "nbformat_minor": 5
}
