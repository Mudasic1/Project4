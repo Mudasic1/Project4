{
 "cells": [
  {
   "cell_type": "markdown",
   "id": "8d77c8d2",
   "metadata": {},
   "source": [
    "# Problem: Planetary Weight Calculator\n",
    "Milestone #1: Mars Weight\n",
    "A few years ago, NASA made history with the first controlled flight on another planet. Its latest Mars Rover, Perseverance, has onboard a 50cm high helicopter called Ingenuity. Ingenuity made its third flight, during which it flew faster and further than it had on any of its test flights on Earth. Interestingly, Ingenuity uses Python for some of its flight modeling software!\n",
    "\n",
    "Ingenuity on the surface of Mars (source: NASA)\n",
    "\n",
    "When programming Ingenuity, one of the things that NASA engineers need to account for is the fact that due to the weaker gravity on Mars, an Earthling's weight on Mars is 37.8% of their weight on Earth. Write a Python program that prompts an Earthling to enter their weight on Earth and prints their calculated weight on Mars.\n",
    "\n",
    "The output should be rounded to two decimal places when necessary. Python has a round function which can help you with this. You pass in the value to be rounded and the number of decimal places to use. In the example below, the number 3.1415926 is rounded to 2 decimal places which is 3.14."
   ]
  },
  {
   "cell_type": "code",
   "execution_count": null,
   "id": "ed722e91",
   "metadata": {},
   "outputs": [
    {
     "name": "stdout",
     "output_type": "stream",
     "text": [
      "The equivalent weight on Mars: 1.13\n"
     ]
    }
   ],
   "source": [
    "# Mars Weight Calculator\n",
    "\n",
    "\n",
    "\n",
    "MARS_MULTIPLE = 0.378\n",
    "\n",
    "def main(): \n",
    "    earth_weight_str = input('Enter a weight on Earth: ')\n",
    "    earth_weight = float(earth_weight_str)\n",
    "\n",
    "# Having a variable for each piece of information is a good habit\n",
    "    mars_weight = earth_weight * MARS_MULTIPLE\n",
    "    rounded_mars_weight = round(mars_weight, 2)\n",
    "\n",
    "\n",
    "# Note the string concatenation!\n",
    "    print('The equivalent weight on Mars: ' + str(rounded_mars_weight))\n",
    "if __name__ == '__main__': \n",
    "    main()"
   ]
  },
  {
   "cell_type": "code",
   "execution_count": 3,
   "id": "3abce6b7",
   "metadata": {},
   "outputs": [
    {
     "name": "stdout",
     "output_type": "stream",
     "text": [
      "The equivalent weight on Mars: 4.54 kg\n"
     ]
    }
   ],
   "source": [
    "# Gravitational constants for planets\n",
    "MERCURY_GRAVITY = 0.376\n",
    "VENUS_GRAVITY = 0.889\n",
    "MARS_GRAVITY = 0.378\n",
    "JUPITER_GRAVITY = 2.36\n",
    "SATURN_GRAVITY = 1.081\n",
    "URANUS_GRAVITY = 0.815\n",
    "NEPTUNE_GRAVITY = 1.14\n",
    "\n",
    "def main():\n",
    "    # Prompt the user for their weight on Earth\n",
    "    earth_weight = float(input(\"Enter your weight on Earth (in kg): \"))\n",
    "\n",
    "    # Prompt the user for the name of a planet\n",
    "    planet = input(\"Enter the name of a planet: \").capitalize()\n",
    "\n",
    "    # Determine the gravitational constant for the selected planet\n",
    "    if planet == \"Mercury\":\n",
    "        gravity_constant = MERCURY_GRAVITY\n",
    "    elif planet == \"Venus\":\n",
    "        gravity_constant = VENUS_GRAVITY\n",
    "    elif planet == \"Mars\":\n",
    "        gravity_constant = MARS_GRAVITY\n",
    "    elif planet == \"Jupiter\":\n",
    "        gravity_constant = JUPITER_GRAVITY\n",
    "    elif planet == \"Saturn\":\n",
    "        gravity_constant = SATURN_GRAVITY\n",
    "    elif planet == \"Uranus\":\n",
    "        gravity_constant = URANUS_GRAVITY\n",
    "    elif planet == \"Neptune\":\n",
    "        gravity_constant = NEPTUNE_GRAVITY\n",
    "    else:\n",
    "        print(\"Invalid planet name. Please enter a valid planet.\")\n",
    "        return\n",
    "\n",
    "    # Calculate the equivalent weight on the selected planet\n",
    "    planetary_weight = earth_weight * gravity_constant\n",
    "    rounded_planetary_weight = round(planetary_weight, 2)\n",
    "\n",
    "    # Print the result\n",
    "    print(f\"The equivalent weight on {planet}: {rounded_planetary_weight} kg\")\n",
    "\n",
    "if __name__ == \"__main__\":\n",
    "    main()"
   ]
  }
 ],
 "metadata": {
  "kernelspec": {
   "display_name": "Python 3",
   "language": "python",
   "name": "python3"
  },
  "language_info": {
   "codemirror_mode": {
    "name": "ipython",
    "version": 3
   },
   "file_extension": ".py",
   "mimetype": "text/x-python",
   "name": "python",
   "nbconvert_exporter": "python",
   "pygments_lexer": "ipython3",
   "version": "3.13.2"
  }
 },
 "nbformat": 4,
 "nbformat_minor": 5
}
